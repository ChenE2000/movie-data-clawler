{
 "cells": [
  {
   "cell_type": "code",
   "execution_count": 1,
   "metadata": {},
   "outputs": [],
   "source": [
    "import pandas as pd\n",
    "import json\n",
    "import numpy as np\n",
    "import matplotlib.pyplot as plt\n",
    "# 中文\n",
    "plt.rcParams['font.sans-serif'] = ['SimHei']\n",
    "# -号\n",
    "plt.rcParams['axes.unicode_minus'] = False\n",
    "import seaborn as sns\n",
    "\n",
    "import warnings\n",
    "warnings.filterwarnings(\"ignore\")"
   ]
  },
  {
   "cell_type": "code",
   "execution_count": 2,
   "metadata": {},
   "outputs": [],
   "source": [
    "with open(\"../metadata/celebrity_name.json\", \"r\", encoding=\"utf-8\") as f:\n",
    "    names = json.load(f)"
   ]
  },
  {
   "cell_type": "code",
   "execution_count": 4,
   "metadata": {},
   "outputs": [],
   "source": [
    "pd.DataFrame(names).to_csv(\"../metadata/celebrity_name.csv\", index=False, encoding=\"utf-8-sig\")"
   ]
  },
  {
   "cell_type": "code",
   "execution_count": 3,
   "metadata": {},
   "outputs": [],
   "source": [
    "with open(\"../metadata/celebrity_MaoYan.json\", \"r\", encoding=\"utf-8\") as f:\n",
    "    data_maoyan = json.load(f)"
   ]
  },
  {
   "cell_type": "code",
   "execution_count": 4,
   "metadata": {},
   "outputs": [
    {
     "data": {
      "text/plain": [
       "[{'姓名': '吴涵伊', 'uid': 1, '总票房': 3280000.0, '获奖详情': []},\n",
       " {'姓名': '杨家麟', 'uid': 2, '总票房': 60000.0, '获奖详情': []},\n",
       " {'姓名': '寿美菜子', 'uid': 3, '总票房': 188000000.0, '获奖详情': []},\n",
       " {'姓名': '林莉', 'uid': 4, '总票房': -1, '获奖详情': []},\n",
       " {'姓名': '顾美华',\n",
       "  'uid': 5,\n",
       "  '总票房': 244000000.0,\n",
       "  '获奖详情': [{'获奖基本信息': {'获奖封面': 'https://p1.meituan.net/movie/93c7e76ea0613b230023c7f0348e77327514.jpg@128w_128h_1e_1c',\n",
       "     '获奖名称': '香港金像奖',\n",
       "     '获奖次数': '获奖1次 , 提名2次'},\n",
       "    '获奖详情': [['第9届-最佳女配角(提名)', '《不脱袜的人》 1989 / 饰:顾太太'],\n",
       "     ['第4届-最佳新演员', '《似水流年》 1984 / 饰:张珊珊'],\n",
       "     ['第4届-最佳女主角(提名)', '《似水流年》 1984 / 饰:张珊珊']]},\n",
       "   {'获奖基本信息': {'获奖封面': 'https://p1.meituan.net/movie/b4fee6afd042d546bd8ec85605a64d385478.jpg@128w_128h_1e_1c',\n",
       "     '获奖名称': '台湾电影金马奖',\n",
       "     '获奖次数': '获奖1次'},\n",
       "    '获奖详情': [['第29届-最佳女配角', \"《浮世恋曲》 1992 / 饰:张文娴 Teresa, Tony's wife\"]]},\n",
       "   {'获奖基本信息': {'获奖封面': 'https://p1.meituan.net/moviemachine/067af64bab9bfd5c3b566ffc14f247ee10572.jpg@128w_128h_1e_1c',\n",
       "     '获奖名称': '上海国际电影节',\n",
       "     '获奖次数': '获奖1次'},\n",
       "    '获奖详情': [['第7届-金爵奖-最佳女演员', '《美丽上海》 2004 / 饰:静文']]}]}]"
      ]
     },
     "execution_count": 4,
     "metadata": {},
     "output_type": "execute_result"
    }
   ],
   "source": [
    "data_maoyan[0:5]"
   ]
  },
  {
   "cell_type": "code",
   "execution_count": 5,
   "metadata": {},
   "outputs": [],
   "source": [
    "# filter items with exist False\n",
    "data_maoyan = list(filter(lambda x: \"exist\" not in x, data_maoyan))"
   ]
  },
  {
   "cell_type": "code",
   "execution_count": 6,
   "metadata": {},
   "outputs": [
    {
     "data": {
      "text/plain": [
       "'共存在合法演员信息 7745 条'"
      ]
     },
     "execution_count": 6,
     "metadata": {},
     "output_type": "execute_result"
    }
   ],
   "source": [
    "f\"共存在合法演员信息 {len(data_maoyan)} 条\""
   ]
  },
  {
   "cell_type": "code",
   "execution_count": 7,
   "metadata": {},
   "outputs": [],
   "source": [
    "# to dataframe\n",
    "df_maoyan = pd.json_normalize(data_maoyan)"
   ]
  },
  {
   "cell_type": "code",
   "execution_count": 8,
   "metadata": {},
   "outputs": [
    {
     "data": {
      "text/html": [
       "<div>\n",
       "<style scoped>\n",
       "    .dataframe tbody tr th:only-of-type {\n",
       "        vertical-align: middle;\n",
       "    }\n",
       "\n",
       "    .dataframe tbody tr th {\n",
       "        vertical-align: top;\n",
       "    }\n",
       "\n",
       "    .dataframe thead th {\n",
       "        text-align: right;\n",
       "    }\n",
       "</style>\n",
       "<table border=\"1\" class=\"dataframe\">\n",
       "  <thead>\n",
       "    <tr style=\"text-align: right;\">\n",
       "      <th></th>\n",
       "      <th>姓名</th>\n",
       "      <th>uid</th>\n",
       "      <th>总票房</th>\n",
       "      <th>获奖详情</th>\n",
       "    </tr>\n",
       "  </thead>\n",
       "  <tbody>\n",
       "    <tr>\n",
       "      <th>0</th>\n",
       "      <td>吴涵伊</td>\n",
       "      <td>1</td>\n",
       "      <td>3280000.0</td>\n",
       "      <td>[]</td>\n",
       "    </tr>\n",
       "    <tr>\n",
       "      <th>1</th>\n",
       "      <td>杨家麟</td>\n",
       "      <td>2</td>\n",
       "      <td>60000.0</td>\n",
       "      <td>[]</td>\n",
       "    </tr>\n",
       "    <tr>\n",
       "      <th>2</th>\n",
       "      <td>寿美菜子</td>\n",
       "      <td>3</td>\n",
       "      <td>188000000.0</td>\n",
       "      <td>[]</td>\n",
       "    </tr>\n",
       "    <tr>\n",
       "      <th>3</th>\n",
       "      <td>林莉</td>\n",
       "      <td>4</td>\n",
       "      <td>-1.0</td>\n",
       "      <td>[]</td>\n",
       "    </tr>\n",
       "    <tr>\n",
       "      <th>4</th>\n",
       "      <td>顾美华</td>\n",
       "      <td>5</td>\n",
       "      <td>244000000.0</td>\n",
       "      <td>[{'获奖基本信息': {'获奖封面': 'https://p1.meituan.net/m...</td>\n",
       "    </tr>\n",
       "  </tbody>\n",
       "</table>\n",
       "</div>"
      ],
      "text/plain": [
       "     姓名  uid          总票房                                               获奖详情\n",
       "0   吴涵伊    1    3280000.0                                                 []\n",
       "1   杨家麟    2      60000.0                                                 []\n",
       "2  寿美菜子    3  188000000.0                                                 []\n",
       "3    林莉    4         -1.0                                                 []\n",
       "4   顾美华    5  244000000.0  [{'获奖基本信息': {'获奖封面': 'https://p1.meituan.net/m..."
      ]
     },
     "execution_count": 8,
     "metadata": {},
     "output_type": "execute_result"
    }
   ],
   "source": [
    "df_maoyan.head()"
   ]
  },
  {
   "attachments": {},
   "cell_type": "markdown",
   "metadata": {},
   "source": [
    "---"
   ]
  },
  {
   "cell_type": "code",
   "execution_count": 9,
   "metadata": {},
   "outputs": [],
   "source": [
    "with open(\"../metadata/celebrity_AiMan.json\", \"r\", encoding=\"utf-8\") as f:\n",
    "    data_aiman = json.load(f)"
   ]
  },
  {
   "cell_type": "code",
   "execution_count": 10,
   "metadata": {},
   "outputs": [],
   "source": [
    "df_aiman = pd.json_normalize(data_aiman)"
   ]
  },
  {
   "cell_type": "code",
   "execution_count": 11,
   "metadata": {},
   "outputs": [],
   "source": [
    "df_aiman.columns = ['商业价值', '代言指数', '热度指数', '口碑指数', '专业指数', '姓名', 'uid']"
   ]
  },
  {
   "cell_type": "code",
   "execution_count": 12,
   "metadata": {},
   "outputs": [
    {
     "data": {
      "text/html": [
       "<div>\n",
       "<style scoped>\n",
       "    .dataframe tbody tr th:only-of-type {\n",
       "        vertical-align: middle;\n",
       "    }\n",
       "\n",
       "    .dataframe tbody tr th {\n",
       "        vertical-align: top;\n",
       "    }\n",
       "\n",
       "    .dataframe thead th {\n",
       "        text-align: right;\n",
       "    }\n",
       "</style>\n",
       "<table border=\"1\" class=\"dataframe\">\n",
       "  <thead>\n",
       "    <tr style=\"text-align: right;\">\n",
       "      <th></th>\n",
       "      <th>商业价值</th>\n",
       "      <th>代言指数</th>\n",
       "      <th>热度指数</th>\n",
       "      <th>口碑指数</th>\n",
       "      <th>专业指数</th>\n",
       "      <th>姓名</th>\n",
       "      <th>uid</th>\n",
       "    </tr>\n",
       "  </thead>\n",
       "  <tbody>\n",
       "    <tr>\n",
       "      <th>0</th>\n",
       "      <td>19.9050</td>\n",
       "      <td>15.3850</td>\n",
       "      <td>4.51</td>\n",
       "      <td>0.000</td>\n",
       "      <td>28.1950</td>\n",
       "      <td>吴涵伊</td>\n",
       "      <td>1</td>\n",
       "    </tr>\n",
       "    <tr>\n",
       "      <th>1</th>\n",
       "      <td>27.7875</td>\n",
       "      <td>15.3850</td>\n",
       "      <td>0.00</td>\n",
       "      <td>0.000</td>\n",
       "      <td>38.3175</td>\n",
       "      <td>杨家麟</td>\n",
       "      <td>2</td>\n",
       "    </tr>\n",
       "    <tr>\n",
       "      <th>2</th>\n",
       "      <td>48.1975</td>\n",
       "      <td>15.3850</td>\n",
       "      <td>3.99</td>\n",
       "      <td>1.770</td>\n",
       "      <td>61.3975</td>\n",
       "      <td>寿美菜子</td>\n",
       "      <td>3</td>\n",
       "    </tr>\n",
       "    <tr>\n",
       "      <th>3</th>\n",
       "      <td>44.3725</td>\n",
       "      <td>29.8225</td>\n",
       "      <td>26.21</td>\n",
       "      <td>2.845</td>\n",
       "      <td>46.8000</td>\n",
       "      <td>林莉</td>\n",
       "      <td>4</td>\n",
       "    </tr>\n",
       "    <tr>\n",
       "      <th>4</th>\n",
       "      <td>0.0000</td>\n",
       "      <td>0.0000</td>\n",
       "      <td>0.00</td>\n",
       "      <td>0.000</td>\n",
       "      <td>0.0000</td>\n",
       "      <td>顾美华</td>\n",
       "      <td>5</td>\n",
       "    </tr>\n",
       "  </tbody>\n",
       "</table>\n",
       "</div>"
      ],
      "text/plain": [
       "      商业价值     代言指数   热度指数   口碑指数     专业指数    姓名  uid\n",
       "0  19.9050  15.3850   4.51  0.000  28.1950   吴涵伊    1\n",
       "1  27.7875  15.3850   0.00  0.000  38.3175   杨家麟    2\n",
       "2  48.1975  15.3850   3.99  1.770  61.3975  寿美菜子    3\n",
       "3  44.3725  29.8225  26.21  2.845  46.8000    林莉    4\n",
       "4   0.0000   0.0000   0.00  0.000   0.0000   顾美华    5"
      ]
     },
     "execution_count": 12,
     "metadata": {},
     "output_type": "execute_result"
    }
   ],
   "source": [
    "df_aiman.head()"
   ]
  },
  {
   "attachments": {},
   "cell_type": "markdown",
   "metadata": {},
   "source": [
    "---"
   ]
  },
  {
   "cell_type": "code",
   "execution_count": 13,
   "metadata": {},
   "outputs": [],
   "source": [
    "# merge two dataframe\n",
    "df = pd.merge(df_maoyan, df_aiman, on=\"uid\", how=\"outer\")"
   ]
  },
  {
   "cell_type": "code",
   "execution_count": 14,
   "metadata": {},
   "outputs": [],
   "source": [
    "# drop row with NaN\n",
    "df = df.dropna(axis=0, how=\"any\")"
   ]
  },
  {
   "cell_type": "code",
   "execution_count": 15,
   "metadata": {},
   "outputs": [],
   "source": [
    "# drop row with 总票房==-1\n",
    "df = df[df[\"总票房\"] != -1]"
   ]
  },
  {
   "cell_type": "code",
   "execution_count": 16,
   "metadata": {},
   "outputs": [
    {
     "data": {
      "text/plain": [
       "'共存在合法演员信息 1445 条'"
      ]
     },
     "execution_count": 16,
     "metadata": {},
     "output_type": "execute_result"
    }
   ],
   "source": [
    "f\"共存在合法演员信息 {df.shape[0]} 条\""
   ]
  },
  {
   "cell_type": "code",
   "execution_count": 17,
   "metadata": {},
   "outputs": [],
   "source": [
    "df[\"总票房.log\"] = df[\"总票房\"].apply(lambda x: np.log(x))"
   ]
  },
  {
   "cell_type": "code",
   "execution_count": 18,
   "metadata": {},
   "outputs": [
    {
     "data": {
      "text/plain": [
       "<Axes: ylabel='Frequency'>"
      ]
     },
     "execution_count": 18,
     "metadata": {},
     "output_type": "execute_result"
    },
    {
     "data": {
      "image/png": "[encoded data removed]",
      "text/plain": [
       "<Figure size 640x480 with 1 Axes>"
      ]
     },
     "metadata": {},
     "output_type": "display_data"
    }
   ],
   "source": [
    "df[\"总票房.log\"].plot.hist(bins=50)"
   ]
  },
  {
   "cell_type": "code",
   "execution_count": 20,
   "metadata": {},
   "outputs": [],
   "source": [
    "df['获奖详情.数量'] = df['获奖详情'].apply(lambda x: len(x))"
   ]
  },
  {
   "cell_type": "code",
   "execution_count": 21,
   "metadata": {},
   "outputs": [],
   "source": [
    "numerical_features = ['商业价值', '代言指数', '热度指数', '口碑指数', '专业指数', '总票房.log']\n",
    "# 做【0，10】标准化\n",
    "df[numerical_features] = df[numerical_features].apply(lambda x: (x - x.min()) / (x.max() - x.min()) * 10)"
   ]
  },
  {
   "cell_type": "code",
   "execution_count": 22,
   "metadata": {},
   "outputs": [
    {
     "data": {
      "text/plain": [
       "<Axes: ylabel='Frequency'>"
      ]
     },
     "execution_count": 22,
     "metadata": {},
     "output_type": "execute_result"
    },
    {
     "data": {
      "image/png": "[encoded data removed]",
      "text/plain": [
       "<Figure size 640x480 with 1 Axes>"
      ]
     },
     "metadata": {},
     "output_type": "display_data"
    }
   ],
   "source": [
    "\"\"\"\n",
    "使用主成分分析法进行降维，\n",
    "将numerical_features中的7个特征降维到1个特征\n",
    "该特征的大小表示该演员的综合评分\n",
    "\"\"\"\n",
    "\n",
    "\n",
    "from sklearn.decomposition import PCA\n",
    "\n",
    "features = ['商业价值', '代言指数', '热度指数', '口碑指数', '专业指数', '获奖详情.数量', '总票房.log']\n",
    "\n",
    "pca = PCA(n_components=1)\n",
    "df['综合评分'] = pca.fit_transform(df[numerical_features])\n",
    "\n",
    "df['综合评分'].plot.hist(bins=50)\n",
    "\n"
   ]
  },
  {
   "cell_type": "code",
   "execution_count": 23,
   "metadata": {},
   "outputs": [
    {
     "data": {
      "text/html": [
       "<div>\n",
       "<style scoped>\n",
       "    .dataframe tbody tr th:only-of-type {\n",
       "        vertical-align: middle;\n",
       "    }\n",
       "\n",
       "    .dataframe tbody tr th {\n",
       "        vertical-align: top;\n",
       "    }\n",
       "\n",
       "    .dataframe thead th {\n",
       "        text-align: right;\n",
       "    }\n",
       "</style>\n",
       "<table border=\"1\" class=\"dataframe\">\n",
       "  <thead>\n",
       "    <tr style=\"text-align: right;\">\n",
       "      <th></th>\n",
       "      <th>姓名_x</th>\n",
       "      <th>uid</th>\n",
       "      <th>总票房</th>\n",
       "      <th>获奖详情</th>\n",
       "      <th>商业价值</th>\n",
       "      <th>代言指数</th>\n",
       "      <th>热度指数</th>\n",
       "      <th>口碑指数</th>\n",
       "      <th>专业指数</th>\n",
       "      <th>姓名_y</th>\n",
       "      <th>总票房.log</th>\n",
       "      <th>获奖详情.数量</th>\n",
       "      <th>综合评分</th>\n",
       "    </tr>\n",
       "  </thead>\n",
       "  <tbody>\n",
       "    <tr>\n",
       "      <th>0</th>\n",
       "      <td>肖战</td>\n",
       "      <td>262</td>\n",
       "      <td>2.889000e+09</td>\n",
       "      <td>[]</td>\n",
       "      <td>10.000000</td>\n",
       "      <td>10.000000</td>\n",
       "      <td>10.000000</td>\n",
       "      <td>10.000000</td>\n",
       "      <td>10.000000</td>\n",
       "      <td>肖战</td>\n",
       "      <td>7.136498</td>\n",
       "      <td>0</td>\n",
       "      <td>12.164831</td>\n",
       "    </tr>\n",
       "    <tr>\n",
       "      <th>1</th>\n",
       "      <td>杨颖</td>\n",
       "      <td>913</td>\n",
       "      <td>9.684000e+09</td>\n",
       "      <td>[{'获奖基本信息': {'获奖封面': 'https://p0.meituan.net/m...</td>\n",
       "      <td>9.409239</td>\n",
       "      <td>9.296314</td>\n",
       "      <td>9.352887</td>\n",
       "      <td>9.236410</td>\n",
       "      <td>9.565217</td>\n",
       "      <td>杨颖</td>\n",
       "      <td>7.823007</td>\n",
       "      <td>4</td>\n",
       "      <td>11.239637</td>\n",
       "    </tr>\n",
       "    <tr>\n",
       "      <th>2</th>\n",
       "      <td>赵丽</td>\n",
       "      <td>2366</td>\n",
       "      <td>2.347000e+07</td>\n",
       "      <td>[]</td>\n",
       "      <td>9.289699</td>\n",
       "      <td>8.874670</td>\n",
       "      <td>9.207138</td>\n",
       "      <td>9.410475</td>\n",
       "      <td>9.651604</td>\n",
       "      <td>赵丽</td>\n",
       "      <td>4.404829</td>\n",
       "      <td>0</td>\n",
       "      <td>10.711958</td>\n",
       "    </tr>\n",
       "    <tr>\n",
       "      <th>3</th>\n",
       "      <td>虞书欣</td>\n",
       "      <td>1569</td>\n",
       "      <td>1.052000e+09</td>\n",
       "      <td>[{'获奖基本信息': {'获奖封面': 'https://p0.meituan.net/m...</td>\n",
       "      <td>8.882233</td>\n",
       "      <td>8.635541</td>\n",
       "      <td>8.517794</td>\n",
       "      <td>8.859574</td>\n",
       "      <td>9.238204</td>\n",
       "      <td>虞书欣</td>\n",
       "      <td>6.563131</td>\n",
       "      <td>1</td>\n",
       "      <td>10.199795</td>\n",
       "    </tr>\n",
       "    <tr>\n",
       "      <th>4</th>\n",
       "      <td>黄明昊</td>\n",
       "      <td>138</td>\n",
       "      <td>2.600000e+08</td>\n",
       "      <td>[]</td>\n",
       "      <td>8.795599</td>\n",
       "      <td>8.669407</td>\n",
       "      <td>7.772570</td>\n",
       "      <td>8.728829</td>\n",
       "      <td>9.415253</td>\n",
       "      <td>黄明昊</td>\n",
       "      <td>5.769805</td>\n",
       "      <td>0</td>\n",
       "      <td>10.032037</td>\n",
       "    </tr>\n",
       "  </tbody>\n",
       "</table>\n",
       "</div>"
      ],
      "text/plain": [
       "  姓名_x   uid           总票房                                               获奖详情  \\\n",
       "0   肖战   262  2.889000e+09                                                 []   \n",
       "1   杨颖   913  9.684000e+09  [{'获奖基本信息': {'获奖封面': 'https://p0.meituan.net/m...   \n",
       "2   赵丽  2366  2.347000e+07                                                 []   \n",
       "3  虞书欣  1569  1.052000e+09  [{'获奖基本信息': {'获奖封面': 'https://p0.meituan.net/m...   \n",
       "4  黄明昊   138  2.600000e+08                                                 []   \n",
       "\n",
       "        商业价值       代言指数       热度指数       口碑指数       专业指数 姓名_y   总票房.log  \\\n",
       "0  10.000000  10.000000  10.000000  10.000000  10.000000   肖战  7.136498   \n",
       "1   9.409239   9.296314   9.352887   9.236410   9.565217   杨颖  7.823007   \n",
       "2   9.289699   8.874670   9.207138   9.410475   9.651604   赵丽  4.404829   \n",
       "3   8.882233   8.635541   8.517794   8.859574   9.238204  虞书欣  6.563131   \n",
       "4   8.795599   8.669407   7.772570   8.728829   9.415253  黄明昊  5.769805   \n",
       "\n",
       "   获奖详情.数量       综合评分  \n",
       "0        0  12.164831  \n",
       "1        4  11.239637  \n",
       "2        0  10.711958  \n",
       "3        1  10.199795  \n",
       "4        0  10.032037  "
      ]
     },
     "execution_count": 23,
     "metadata": {},
     "output_type": "execute_result"
    }
   ],
   "source": [
    "# 选取综合评分前10的演员\n",
    "df = df.sort_values(by=\"综合评分\", ascending=False).reset_index(drop=True)\n",
    "df.head(5)"
   ]
  },
  {
   "cell_type": "code",
   "execution_count": 24,
   "metadata": {},
   "outputs": [
    {
     "data": {
      "text/html": [
       "<div>\n",
       "<style scoped>\n",
       "    .dataframe tbody tr th:only-of-type {\n",
       "        vertical-align: middle;\n",
       "    }\n",
       "\n",
       "    .dataframe tbody tr th {\n",
       "        vertical-align: top;\n",
       "    }\n",
       "\n",
       "    .dataframe thead th {\n",
       "        text-align: right;\n",
       "    }\n",
       "</style>\n",
       "<table border=\"1\" class=\"dataframe\">\n",
       "  <thead>\n",
       "    <tr style=\"text-align: right;\">\n",
       "      <th></th>\n",
       "      <th>姓名_x</th>\n",
       "      <th>uid</th>\n",
       "      <th>总票房</th>\n",
       "      <th>获奖详情</th>\n",
       "      <th>商业价值</th>\n",
       "      <th>代言指数</th>\n",
       "      <th>热度指数</th>\n",
       "      <th>口碑指数</th>\n",
       "      <th>专业指数</th>\n",
       "      <th>姓名_y</th>\n",
       "      <th>总票房.log</th>\n",
       "      <th>获奖详情.数量</th>\n",
       "      <th>综合评分</th>\n",
       "      <th>tier</th>\n",
       "    </tr>\n",
       "  </thead>\n",
       "  <tbody>\n",
       "    <tr>\n",
       "      <th>0</th>\n",
       "      <td>肖战</td>\n",
       "      <td>262</td>\n",
       "      <td>2.889000e+09</td>\n",
       "      <td>[]</td>\n",
       "      <td>10.000000</td>\n",
       "      <td>10.000000</td>\n",
       "      <td>10.000000</td>\n",
       "      <td>10.000000</td>\n",
       "      <td>10.000000</td>\n",
       "      <td>肖战</td>\n",
       "      <td>7.136498</td>\n",
       "      <td>0</td>\n",
       "      <td>12.164831</td>\n",
       "      <td>1</td>\n",
       "    </tr>\n",
       "    <tr>\n",
       "      <th>1</th>\n",
       "      <td>杨颖</td>\n",
       "      <td>913</td>\n",
       "      <td>9.684000e+09</td>\n",
       "      <td>[{'获奖基本信息': {'获奖封面': 'https://p0.meituan.net/m...</td>\n",
       "      <td>9.409239</td>\n",
       "      <td>9.296314</td>\n",
       "      <td>9.352887</td>\n",
       "      <td>9.236410</td>\n",
       "      <td>9.565217</td>\n",
       "      <td>杨颖</td>\n",
       "      <td>7.823007</td>\n",
       "      <td>4</td>\n",
       "      <td>11.239637</td>\n",
       "      <td>1</td>\n",
       "    </tr>\n",
       "    <tr>\n",
       "      <th>2</th>\n",
       "      <td>赵丽</td>\n",
       "      <td>2366</td>\n",
       "      <td>2.347000e+07</td>\n",
       "      <td>[]</td>\n",
       "      <td>9.289699</td>\n",
       "      <td>8.874670</td>\n",
       "      <td>9.207138</td>\n",
       "      <td>9.410475</td>\n",
       "      <td>9.651604</td>\n",
       "      <td>赵丽</td>\n",
       "      <td>4.404829</td>\n",
       "      <td>0</td>\n",
       "      <td>10.711958</td>\n",
       "      <td>1</td>\n",
       "    </tr>\n",
       "    <tr>\n",
       "      <th>3</th>\n",
       "      <td>虞书欣</td>\n",
       "      <td>1569</td>\n",
       "      <td>1.052000e+09</td>\n",
       "      <td>[{'获奖基本信息': {'获奖封面': 'https://p0.meituan.net/m...</td>\n",
       "      <td>8.882233</td>\n",
       "      <td>8.635541</td>\n",
       "      <td>8.517794</td>\n",
       "      <td>8.859574</td>\n",
       "      <td>9.238204</td>\n",
       "      <td>虞书欣</td>\n",
       "      <td>6.563131</td>\n",
       "      <td>1</td>\n",
       "      <td>10.199795</td>\n",
       "      <td>1</td>\n",
       "    </tr>\n",
       "    <tr>\n",
       "      <th>4</th>\n",
       "      <td>黄明昊</td>\n",
       "      <td>138</td>\n",
       "      <td>2.600000e+08</td>\n",
       "      <td>[]</td>\n",
       "      <td>8.795599</td>\n",
       "      <td>8.669407</td>\n",
       "      <td>7.772570</td>\n",
       "      <td>8.728829</td>\n",
       "      <td>9.415253</td>\n",
       "      <td>黄明昊</td>\n",
       "      <td>5.769805</td>\n",
       "      <td>0</td>\n",
       "      <td>10.032037</td>\n",
       "      <td>1</td>\n",
       "    </tr>\n",
       "  </tbody>\n",
       "</table>\n",
       "</div>"
      ],
      "text/plain": [
       "  姓名_x   uid           总票房                                               获奖详情  \\\n",
       "0   肖战   262  2.889000e+09                                                 []   \n",
       "1   杨颖   913  9.684000e+09  [{'获奖基本信息': {'获奖封面': 'https://p0.meituan.net/m...   \n",
       "2   赵丽  2366  2.347000e+07                                                 []   \n",
       "3  虞书欣  1569  1.052000e+09  [{'获奖基本信息': {'获奖封面': 'https://p0.meituan.net/m...   \n",
       "4  黄明昊   138  2.600000e+08                                                 []   \n",
       "\n",
       "        商业价值       代言指数       热度指数       口碑指数       专业指数 姓名_y   总票房.log  \\\n",
       "0  10.000000  10.000000  10.000000  10.000000  10.000000   肖战  7.136498   \n",
       "1   9.409239   9.296314   9.352887   9.236410   9.565217   杨颖  7.823007   \n",
       "2   9.289699   8.874670   9.207138   9.410475   9.651604   赵丽  4.404829   \n",
       "3   8.882233   8.635541   8.517794   8.859574   9.238204  虞书欣  6.563131   \n",
       "4   8.795599   8.669407   7.772570   8.728829   9.415253  黄明昊  5.769805   \n",
       "\n",
       "   获奖详情.数量       综合评分  tier  \n",
       "0        0  12.164831     1  \n",
       "1        4  11.239637     1  \n",
       "2        0  10.711958     1  \n",
       "3        1  10.199795     1  \n",
       "4        0  10.032037     1  "
      ]
     },
     "execution_count": 24,
     "metadata": {},
     "output_type": "execute_result"
    }
   ],
   "source": [
    "# 根据【综合评分】经行tier划分\n",
    "# tier1: top 5%\n",
    "# tier2: 5% - 20%\n",
    "# tier3: 20% - 60%\n",
    "# tier4: 60% - 100%\n",
    "\n",
    "def tier(x):\n",
    "    if x > df[\"综合评分\"].quantile(0.95):\n",
    "        return 1\n",
    "    elif x > df[\"综合评分\"].quantile(0.8):\n",
    "        return 2\n",
    "    elif x > df[\"综合评分\"].quantile(0.4):\n",
    "        return 3\n",
    "    else:\n",
    "        return 4\n",
    "\n",
    "df[\"tier\"] = df[\"综合评分\"].apply(tier)\n",
    "df.head(5)"
   ]
  },
  {
   "cell_type": "code",
   "execution_count": 23,
   "metadata": {},
   "outputs": [],
   "source": [
    "df.drop('姓名_y', axis=1, inplace=True)"
   ]
  },
  {
   "cell_type": "code",
   "execution_count": 25,
   "metadata": {},
   "outputs": [],
   "source": [
    "df.to_excel(\"./celebrity.xlsx\", index=False)"
   ]
  }
 ],
 "metadata": {
  "kernelspec": {
   "display_name": "Python 3",
   "language": "python",
   "name": "python3"
  },
  "language_info": {
   "codemirror_mode": {
    "name": "ipython",
    "version": 3
   },
   "file_extension": ".py",
   "mimetype": "text/x-python",
   "name": "python",
   "nbconvert_exporter": "python",
   "pygments_lexer": "ipython3",
   "version": "3.11.0"
  },
  "orig_nbformat": 4
 },
 "nbformat": 4,
 "nbformat_minor": 2
}
