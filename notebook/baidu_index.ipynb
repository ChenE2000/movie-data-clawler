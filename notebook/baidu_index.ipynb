{
 "cells": [
  {
   "cell_type": "code",
   "execution_count": 1,
   "metadata": {},
   "outputs": [],
   "source": [
    "import json \n",
    "import pandas as pd\n",
    "import os"
   ]
  },
  {
   "cell_type": "code",
   "execution_count": 18,
   "metadata": {},
   "outputs": [],
   "source": [
    "path = \"../data/baidu_feed_index\"\n",
    "feed_list = os.listdir(path)\n",
    "all_data = []\n",
    "# read all json\n",
    "for item in feed_list:\n",
    "    with open(os.path.join(path, item), \"r\", encoding=\"utf-8\") as f:\n",
    "        data = json.load(f)\n",
    "\n",
    "        # paris = (date, index)\n",
    "        pairs = []\n",
    "        for i in data:\n",
    "            if len(i) == 0:\n",
    "                continue\n",
    "            pairs.append((i['date'], i['index']))\n",
    "    all_data.append({\n",
    "        \"key\": data[0]['keyword'],\n",
    "        \"pairs\": pairs\n",
    "    })\n",
    "    "
   ]
  },
  {
   "cell_type": "code",
   "execution_count": 19,
   "metadata": {},
   "outputs": [],
   "source": [
    "# save to json\n",
    "with open(\"../data/baidu_feed_index.json\", \"w\", encoding=\"utf-8\") as f:\n",
    "    json.dump(all_data, f, ensure_ascii=False)"
   ]
  },
  {
   "cell_type": "code",
   "execution_count": 16,
   "metadata": {},
   "outputs": [],
   "source": [
    "path = \"../data/baidu_search_index\"\n",
    "feed_list = os.listdir(path)\n",
    "all_data = []\n",
    "# read all json\n",
    "for item in feed_list:\n",
    "    with open(os.path.join(path, item), \"r\", encoding=\"utf-8\") as f:\n",
    "        data = json.load(f)\n",
    "\n",
    "        # paris = (date, index)\n",
    "        pairs = []\n",
    "        for i in data:\n",
    "            if len(i) == 0:\n",
    "                continue\n",
    "            pairs.append((i['date'], i['index']))\n",
    "    all_data.append({\n",
    "        \"key\": data[0]['keyword'],\n",
    "        \"pairs\": pairs\n",
    "    })\n",
    "    "
   ]
  },
  {
   "cell_type": "code",
   "execution_count": 17,
   "metadata": {},
   "outputs": [],
   "source": [
    "# save to json\n",
    "with open(\"../data/baidu_search_index.json\", \"w\", encoding=\"utf-8\") as f:\n",
    "    json.dump(all_data, f, ensure_ascii=False)"
   ]
  },
  {
   "cell_type": "code",
   "execution_count": 2,
   "metadata": {},
   "outputs": [],
   "source": [
    "path = \"../data/star_baidu_data_feed_index\"\n",
    "feed_list = os.listdir(path)\n",
    "all_data = []\n",
    "# read all json\n",
    "for item in feed_list:\n",
    "    with open(os.path.join(path, item), \"r\", encoding=\"utf-8\") as f:\n",
    "        data = json.load(f)\n",
    "\n",
    "        # paris = (date, index)\n",
    "        pairs = []\n",
    "        for i in data:\n",
    "            if len(i) == 0:\n",
    "                continue\n",
    "            pairs.append((i['date'], i['index']))\n",
    "    all_data.append({\n",
    "        \"key\": data[0]['keyword'],\n",
    "        \"pairs\": pairs\n",
    "    })\n",
    "    "
   ]
  },
  {
   "cell_type": "code",
   "execution_count": 4,
   "metadata": {},
   "outputs": [],
   "source": [
    "# save to json\n",
    "with open(\"../data/star_baidu_data_feed_index.json\", \"w\", encoding=\"utf-8\") as f:\n",
    "    json.dump(all_data, f, ensure_ascii=False)"
   ]
  },
  {
   "cell_type": "code",
   "execution_count": 5,
   "metadata": {},
   "outputs": [],
   "source": [
    "path = \"../data/star_baidu_data_search_index\"\n",
    "feed_list = os.listdir(path)\n",
    "all_data = []\n",
    "# read all json\n",
    "for item in feed_list:\n",
    "    with open(os.path.join(path, item), \"r\", encoding=\"utf-8\") as f:\n",
    "        data = json.load(f)\n",
    "\n",
    "        # paris = (date, index)\n",
    "        pairs = []\n",
    "        for i in data:\n",
    "            if len(i) == 0:\n",
    "                continue\n",
    "            pairs.append((i['date'], i['index']))\n",
    "    all_data.append({\n",
    "        \"key\": data[0]['keyword'],\n",
    "        \"pairs\": pairs\n",
    "    })\n",
    "    "
   ]
  },
  {
   "cell_type": "code",
   "execution_count": 7,
   "metadata": {},
   "outputs": [],
   "source": [
    "# save to json\n",
    "with open(\"../data/star_baidu_data_search_index.json\", \"w\", encoding=\"utf-8\") as f:\n",
    "    json.dump(all_data, f, ensure_ascii=False)"
   ]
  }
 ],
 "metadata": {
  "kernelspec": {
   "display_name": "Python 3",
   "language": "python",
   "name": "python3"
  },
  "language_info": {
   "codemirror_mode": {
    "name": "ipython",
    "version": 3
   },
   "file_extension": ".py",
   "mimetype": "text/x-python",
   "name": "python",
   "nbconvert_exporter": "python",
   "pygments_lexer": "ipython3",
   "version": "3.11.0"
  },
  "orig_nbformat": 4
 },
 "nbformat": 4,
 "nbformat_minor": 2
}
